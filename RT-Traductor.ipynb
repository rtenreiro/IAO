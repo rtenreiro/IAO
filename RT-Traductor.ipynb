{
 "cells": [
  {
   "cell_type": "markdown",
   "id": "b636a965-a599-4f02-98d5-e6258256ad84",
   "metadata": {},
   "source": [
    "# Traducir del Inglés al Español\n"
   ]
  },
  {
   "cell_type": "code",
   "execution_count": 6,
   "id": "a487b510-6989-419f-8535-9725a8c9f30a",
   "metadata": {},
   "outputs": [
    {
     "name": "stdout",
     "output_type": "stream",
     "text": [
      "Resumen traducido al español y guardado en: E:/NEURONAL/Clima/Resumen_Espanol.txt\n"
     ]
    }
   ],
   "source": [
    "import os\n",
    "from translate import Translator\n",
    "\n",
    "# Define las rutas de los archivos\n",
    "input_file_path = 'E:/NEURONAL/Clima/Resumen.txt'\n",
    "output_file_path = 'E:/NEURONAL/Clima/Resumen_Espanol.txt'\n",
    "\n",
    "# Crea un objeto traductor para traducir al español\n",
    "translator = Translator(to_lang=\"es\")\n",
    "\n",
    "# Lee el contenido del archivo en inglés\n",
    "try:\n",
    "    with open(input_file_path, 'r', encoding='utf-8') as input_file:\n",
    "        text_to_translate = input_file.read()\n",
    "except FileNotFoundError:\n",
    "    print(f\"El archivo {input_file_path} no se encontró.\")\n",
    "    exit(1)\n",
    "\n",
    "# Divide el texto en oraciones o párrafos (dependiendo de su estructura)\n",
    "text_parts = text_to_translate.split('. ')  # Usa '. ' para dividir por oraciones\n",
    "\n",
    "# Traduce cada parte por separado\n",
    "translated_parts = []\n",
    "for part in text_parts:\n",
    "    translated_part = translator.translate(part)\n",
    "    translated_parts.append(translated_part)\n",
    "\n",
    "# Une las partes traducidas en un solo texto\n",
    "translated_text = '. '.join(translated_parts)\n",
    "\n",
    "# Guarda la traducción en un nuevo archivo\n",
    "with open(output_file_path, 'w', encoding='utf-8') as output_file:\n",
    "    output_file.write(translated_text)\n",
    "\n",
    "print(\"Resumen traducido al español y guardado en:\", output_file_path)\n"
   ]
  },
  {
   "cell_type": "markdown",
   "id": "9fb343a1-611b-4e40-91f1-70710775fd1c",
   "metadata": {},
   "source": [
    "# Traducir español a inglés"
   ]
  },
  {
   "cell_type": "code",
   "execution_count": 9,
   "id": "087c76d6-86cf-461e-9447-e580ec1271a6",
   "metadata": {},
   "outputs": [
    {
     "name": "stdout",
     "output_type": "stream",
     "text": [
      "Resumen traducido al inglés y guardado en: E:/NEURONAL/Clima/cae_Ingles.txt\n"
     ]
    }
   ],
   "source": [
    "# Importa las bibliotecas necesarias\n",
    "import os\n",
    "from googletrans import Translator\n",
    "\n",
    "# Define las rutas de los archivos\n",
    "input_file_path = 'E:/NEURONAL/Clima/cae.txt'\n",
    "output_file_path = 'E:/NEURONAL/Clima/cae_Ingles.txt'\n",
    "\n",
    "# Crea un objeto traductor para traducir al inglés\n",
    "translator = Translator()\n",
    "\n",
    "# Lee el contenido del archivo en español\n",
    "try:\n",
    "    with open(input_file_path, 'r', encoding='utf-8') as input_file:\n",
    "        text_to_translate = input_file.read()\n",
    "except FileNotFoundError:\n",
    "    print(f\"El archivo {input_file_path} no se encontró.\")\n",
    "    exit(1)\n",
    "\n",
    "# Divide el texto en oraciones o párrafos (dependiendo de su estructura)\n",
    "text_parts = text_to_translate.split('. ')  # Usa '. ' para dividir por oraciones\n",
    "\n",
    "# Traduce cada parte por separado\n",
    "translated_parts = []\n",
    "for part in text_parts:\n",
    "    translated_part = translator.translate(part, src='es', dest='en').text\n",
    "    translated_parts.append(translated_part)\n",
    "\n",
    "# Une las partes traducidas en un solo texto\n",
    "translated_text = '. '.join(translated_parts)\n",
    "\n",
    "# Guarda la traducción en un nuevo archivo\n",
    "with open(output_file_path, 'w', encoding='utf-8') as output_file:\n",
    "    output_file.write(translated_text)\n",
    "\n",
    "print(\"Resumen traducido al inglés y guardado en:\", output_file_path)\n"
   ]
  },
  {
   "cell_type": "code",
   "execution_count": null,
   "id": "709c248a-19fa-4f82-81ea-1b7f11ec5f63",
   "metadata": {},
   "outputs": [],
   "source": []
  }
 ],
 "metadata": {
  "kernelspec": {
   "display_name": "Python 3 (ipykernel)",
   "language": "python",
   "name": "python3"
  },
  "language_info": {
   "codemirror_mode": {
    "name": "ipython",
    "version": 3
   },
   "file_extension": ".py",
   "mimetype": "text/x-python",
   "name": "python",
   "nbconvert_exporter": "python",
   "pygments_lexer": "ipython3",
   "version": "3.9.13"
  }
 },
 "nbformat": 4,
 "nbformat_minor": 5
}
