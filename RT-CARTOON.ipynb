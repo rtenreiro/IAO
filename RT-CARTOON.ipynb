{
 "cells": [
  {
   "cell_type": "markdown",
   "id": "29476596",
   "metadata": {},
   "source": [
    "# CARTOON MODEL\n",
    " \n",
    "Utilizamos el modelo CartoonGAN, creado por un equipo de investigadores incluyendo la Universidad Tsinghua en China y la Universidad de Cardiff en el Reino Unido.\n",
    "\n",
    "Nuestro código, basado en el realizado por YANG ZHOU, toma una foto en formato digital y la preprocesa adaptandola al tamaño adecuado y realiza los ajustes necesarios para que el modelo pueda procesarla. En segundo lugar, aplica CartoonGAN, para ello utiliza el archivo preentrenado que contiene el modelo y la foto se convierte en una imagen con el estilo de caricatura. Finalmente, la imagen procesada se guarda en un directorio designado, lista para ser usada o compartida."
   ]
  },
  {
   "cell_type": "code",
   "execution_count": 8,
   "id": "df339b61-f5b6-4409-83f6-67e05140465c",
   "metadata": {},
   "outputs": [
    {
     "name": "stdout",
     "output_type": "stream",
     "text": [
      "Imagen procesada y guardada en: E://NEURONAL//cartoongan//O\\25-out.jpg\n",
      "Imagen procesada y guardada en: E://NEURONAL//cartoongan//O\\HITA-out.jpg\n",
      "Imagen procesada y guardada en: E://NEURONAL//cartoongan//O\\RT3-out.jpg\n",
      "Imagen procesada y guardada en: E://NEURONAL//cartoongan//O\\SG-out.jpg\n"
     ]
    }
   ],
   "source": [
    "import os\n",
    "import cv2\n",
    "import numpy as np\n",
    "import tensorflow as tf\n",
    "\n",
    "# Función para cargar una imagen\n",
    "def load_image(img_path):\n",
    "    img = cv2.imread(img_path)\n",
    "    img = img.astype(np.float32) / 127.5 - 1\n",
    "    img = np.expand_dims(img, 0)\n",
    "    img = tf.convert_to_tensor(img)\n",
    "    return img\n",
    "\n",
    "# Función para preprocesar una imagen\n",
    "def preprocess_image(img, target_dim=224):\n",
    "    shape = tf.cast(tf.shape(img)[1:-1], tf.float32)\n",
    "    smallest_dim = min(shape)\n",
    "    scale = target_dim / smallest_dim\n",
    "    new_shape = tf.cast(shape * scale, tf.int32)\n",
    "    img = tf.image.resize(img, new_shape)\n",
    "    img = tf.image.resize_with_crop_or_pad(img, target_dim, target_dim)\n",
    "    return img\n",
    "\n",
    "# Función para procesar todas las imágenes en un directorio\n",
    "def process_images(input_dir, output_dir):\n",
    "    # Cargando el modelo\n",
    "    base_path = os.getcwd()\n",
    "    model_filename = '1.tflite'\n",
    "    model_path = os.path.join(base_path, 'cartoongan', 'tfLite', 'dr', '1', model_filename)\n",
    "    \n",
    "    interpreter = tf.lite.Interpreter(model_path=model_path)\n",
    "    interpreter.allocate_tensors()\n",
    "    \n",
    "    # Procesando cada imagen en el directorio de entrada\n",
    "    for filename in os.listdir(input_dir):\n",
    "        if filename.endswith(\".jpg\") or filename.endswith(\".png\"):\n",
    "            input_path = os.path.join(input_dir, filename)\n",
    "            output_path = os.path.join(output_dir, f\"{os.path.splitext(filename)[0]}-out.jpg\")  # Cambiar a .png si es necesario\n",
    "\n",
    "            input_image = load_image(input_path)\n",
    "            preprocessed_image = preprocess_image(input_image, target_dim=512)\n",
    "\n",
    "            interpreter.set_tensor(interpreter.get_input_details()[0]['index'], preprocessed_image)\n",
    "            interpreter.invoke()\n",
    "\n",
    "            output_tensor = interpreter.tensor(interpreter.get_output_details()[0]['index'])()\n",
    "            output_image = (np.squeeze(output_tensor) + 1.0) * 127.5\n",
    "            output_image = np.clip(output_image, 0, 255).astype(np.uint8)\n",
    "            output_image = cv2.cvtColor(output_image, cv2.COLOR_BGR2RGB)\n",
    "\n",
    "            # Guardar la imagen y liberar referencias\n",
    "            cv2.imwrite(output_path, cv2.cvtColor(output_image, cv2.COLOR_RGB2BGR))\n",
    "            output_image = None\n",
    "            output_tensor = None\n",
    "            preprocessed_image = None\n",
    "            input_image = None\n",
    "            \n",
    "            print(f'Imagen procesada y guardada en: {output_path}')\n",
    "\n",
    "# Directorios de entrada y salida\n",
    "input_directory = \"E://NEURONAL//cartoongan//I\"\n",
    "output_directory = \"E://NEURONAL//cartoongan//O\"\n",
    "\n",
    "# Crear el directorio de salida si no existe\n",
    "if not os.path.exists(output_directory):\n",
    "    os.makedirs(output_directory)\n",
    "\n",
    "# Procesar las imágenes en el directorio de entrada y guardarlas en el directorio de salida\n",
    "process_images(input_directory, output_directory)\n",
    "\n"
   ]
  },
  {
   "cell_type": "code",
   "execution_count": null,
   "id": "4a955a7c",
   "metadata": {},
   "outputs": [],
   "source": []
  }
 ],
 "metadata": {
  "kernelspec": {
   "display_name": "Python 3 (ipykernel)",
   "language": "python",
   "name": "python3"
  },
  "language_info": {
   "codemirror_mode": {
    "name": "ipython",
    "version": 3
   },
   "file_extension": ".py",
   "mimetype": "text/x-python",
   "name": "python",
   "nbconvert_exporter": "python",
   "pygments_lexer": "ipython3",
   "version": "3.9.13"
  }
 },
 "nbformat": 4,
 "nbformat_minor": 5
}
